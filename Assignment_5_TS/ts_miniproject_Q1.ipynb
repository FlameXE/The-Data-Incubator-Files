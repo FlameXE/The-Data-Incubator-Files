{
 "cells": [
  {
   "cell_type": "code",
   "execution_count": 1,
   "metadata": {
    "collapsed": false,
    "scrolled": true
   },
   "outputs": [],
   "source": [
    "'''Importing Modules'''\n",
    "import pandas\n",
    "import numpy as np\n",
    "import json\n",
    "from sklearn.cross_validation import train_test_split\n",
    "from sklearn.base import BaseEstimator, ClassifierMixin, RegressorMixin, TransformerMixin\n",
    "from sklearn.linear_model import Ridge, LinearRegression, Lasso\n",
    "from sklearn.grid_search import GridSearchCV\n",
    "import pickle\n",
    "import dill\n",
    "from sklearn.feature_extraction.text import CountVectorizer, HashingVectorizer\n",
    "from nltk.corpus import stopwords\n",
    "import re\n",
    "import gzip\n",
    "\n",
    "'''Initializing Variables'''\n",
    "lines_list = []\n",
    "iter_lines = 0\n",
    "city_year_month_hour_temp_dict = {}\n",
    "city_year_month_hour_temp_count = {}\n",
    "a = 0\n",
    "\n",
    "'''Opening .gzip file and reading lines'''\n",
    "train_txt = gzip.open('train.txt.gz', 'rb+')\n",
    "train_txt_lines = train_txt.readlines()\n",
    "\n",
    "'''Iterating through lines and appending them to a list'''\n",
    "while iter_lines < len(train_txt_lines):\n",
    "    if len(train_txt_lines[iter_lines]) > 0:\n",
    "        lines_list.append(train_txt_lines[iter_lines].split())\n",
    "    iter_lines += 1\n",
    "\n",
    "'''Initializing Dataframe and assigning column names'''\n",
    "train_dataframe = pandas.DataFrame(lines_list, columns=['year', 'month', 'day', 'hour', 'temp', 'dew_temp', 'pressure', 'wind_angle', 'wind_speed', 'sky_code', 'rain_hour', 'rain_6hour', 'city'])\n",
    "\n",
    "while a < len(train_dataframe):\n",
    "    if train_dataframe['temp'][a] == str(-9999):\n",
    "        pass\n",
    "    else:\n",
    "        city_year_month_hour = str(train_dataframe['city'][a] + '-' + train_dataframe['month'][a] + '-' + train_dataframe['hour'][a])\n",
    "        temp = float(train_dataframe['temp'][a])\n",
    "        if city_year_month_hour in city_year_month_hour_temp_dict:\n",
    "            city_year_month_hour_temp_dict[city_year_month_hour] = city_year_month_hour_temp_dict[str(city_year_month_hour)] + temp\n",
    "            city_year_month_hour_temp_count[city_year_month_hour] += 1\n",
    "        else:\n",
    "            city_year_month_hour_temp_dict[city_year_month_hour] = temp\n",
    "            city_year_month_hour_temp_count[city_year_month_hour] = 1\n",
    "    a += 1\n",
    "\n",
    "for city_year_month_hour_temp_counts in city_year_month_hour_temp_dict:\n",
    "    city_year_month_hour_temp_dict[city_year_month_hour_temp_counts] = \"%.2f\" % (city_year_month_hour_temp_dict[city_year_month_hour_temp_counts] / city_year_month_hour_temp_count[city_year_month_hour_temp_counts]) \n",
    "\n",
    "'''Closing txt file'''\n",
    "train_txt.close()"
   ]
  },
  {
   "cell_type": "code",
   "execution_count": 3,
   "metadata": {
    "collapsed": false
   },
   "outputs": [],
   "source": [
    "city_year_month_hour_temp_txt = open('ts_Q1_month_hour_model.txt', 'wb+')\n",
    "\n",
    "dill.dump(city_year_month_hour_temp_dict, city_year_month_hour_temp_txt)\n",
    "\n",
    "city_year_month_hour_temp_txt.close()"
   ]
  },
  {
   "cell_type": "code",
   "execution_count": null,
   "metadata": {
    "collapsed": true
   },
   "outputs": [],
   "source": []
  }
 ],
 "metadata": {
  "kernelspec": {
   "display_name": "Python 2",
   "language": "python",
   "name": "python2"
  },
  "language_info": {
   "codemirror_mode": {
    "name": "ipython",
    "version": 2
   },
   "file_extension": ".py",
   "mimetype": "text/x-python",
   "name": "python",
   "nbconvert_exporter": "python",
   "pygments_lexer": "ipython2",
   "version": "2.7.10"
  }
 },
 "nbformat": 4,
 "nbformat_minor": 0
}
