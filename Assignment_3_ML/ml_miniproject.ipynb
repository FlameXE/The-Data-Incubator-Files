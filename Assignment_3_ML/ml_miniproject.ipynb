{
 "cells": [
  {
   "cell_type": "code",
   "execution_count": 3,
   "metadata": {
    "collapsed": false
   },
   "outputs": [
    {
     "name": "stdout",
     "output_type": "stream",
     "text": [
      "0.217586135501\n",
      "-0.149116985219\n"
     ]
    },
    {
     "data": {
      "text/plain": [
       "'Calling answer_Q1 to find the mean star rating for each city grouping by city\\ncity_mean = answer_Q1()\\nprint city_mean.groupby_mean(data_frame)'"
      ]
     },
     "execution_count": 3,
     "metadata": {},
     "output_type": "execute_result"
    }
   ],
   "source": [
    "'''+++++++++++++++++++++++++++++++++++++++++++++++++++++++++++++++++++++++++++++++++++++++++++++++++++++++++++++++++++++++++++'''\n",
    "'''Importing modules'''\n",
    "import pandas\n",
    "import numpy as np\n",
    "import json\n",
    "from sklearn.cross_validation import train_test_split\n",
    "from sklearn.base import BaseEstimator, ClassifierMixin, RegressorMixin\n",
    "from sklearn.linear_model import Ridge, LinearRegression, Lasso\n",
    "from sklearn.neighbors import KNeighborsRegressor\n",
    "from sklearn.grid_search import GridSearchCV\n",
    "from sklearn.ensemble import RandomForestRegressor\n",
    "'''***************************************************************************************************************************'''\n",
    "\n",
    "'''Initializing variables and empty lists'''\n",
    "dict_list = []\n",
    "lines_iter = 0\n",
    "\n",
    "'''Opening txt file containing Yelp data and reading lines'''\n",
    "f = open('yelp_dataset_Raw.txt', 'r+')\n",
    "line = f.readlines()\n",
    "\n",
    "'''Writing lines to an empty list using json.loads to parse'''\n",
    "while lines_iter < len(line):\n",
    "    if len(line[lines_iter]) > 0:\n",
    "        dict_list.append(json.loads(line[lines_iter]))\n",
    "    lines_iter += 1\n",
    "\n",
    "'''Initializing list with Yelp data into a pandas data frame for manipulation'''\n",
    "data_frame = pandas.DataFrame(dict_list)\n",
    "\n",
    "'''Converting data frame features into a matrix for model processing'''\n",
    "stars_mx = data_frame['stars'].as_matrix()\n",
    "latitude_mx = data_frame['latitude'].as_matrix()\n",
    "\n",
    "'''Splitting data frame into train and test sets using cross validation'''\n",
    "stars_train, stars_test, latitude_train, latitude_test = train_test_split(stars_mx, latitude_mx, test_size=0.4, random_state=42)\n",
    "latitude_train = latitude_train.reshape(len(latitude_train), 1)\n",
    "latitude_test = latitude_test.reshape(len(latitude_test), 1)\n",
    "\n",
    "'''+++++++++++++++++++++++++++++++++++++++++++++++++++++++++++++++++++++++++++++++++++++++++++++++++++++++++++++++++++++++++++'''\n",
    "'''Initializing class containing a machine learning model (KNN) with GridSearchCV to find best parameters'''\n",
    "class mlm_KNN(BaseEstimator, RegressorMixin):\n",
    "    def __init__(self):\n",
    "        self.mlm = KNeighborsRegressor() #GridSearchCV(KNeighborsRegressor(), {'n_neighbors': range(100, 200, 10)})\n",
    "        \n",
    "    def fit(self, x, y):\n",
    "        self.mlm.fit(x, y)\n",
    "        return self\n",
    "    \n",
    "    def best_params_(self):\n",
    "        return self.mlm.best_params_\n",
    "    \n",
    "    def predict(self, x):\n",
    "        return self.mlm.predict(x)\n",
    "'''***************************************************************************************************************************'''\n",
    "\n",
    "'''+++++++++++++++++++++++++++++++++++++++++++++++++++++++++++++++++++++++++++++++++++++++++++++++++++++++++++++++++++++++++++'''\n",
    "'''Initializing class containing a machine learning model (RFR) with GridSearchCV to find best parameters'''\n",
    "class mlm_RFR(BaseEstimator, RegressorMixin):\n",
    "    def __init__(self):\n",
    "        self.mlm = RandomForestRegressor() #GridSearchCV(RandomForestRegressor(), {'n_estimators' : range(100, 1300, 100), 'max_depth' : range(1, 3, 1)})\n",
    "        \n",
    "    def fit(self, x, y):\n",
    "        self.mlm.fit(x, y)\n",
    "        return self\n",
    "    \n",
    "    def best_params_(self):\n",
    "        return self.mlm.best_params_\n",
    "    \n",
    "    def predict(self, x):\n",
    "        return self.mlm.predict(x)\n",
    "'''***************************************************************************************************************************'''\n",
    "\n",
    "'''+++++++++++++++++++++++++++++++++++++++++++++++++++++++++++++++++++++++++++++++++++++++++++++++++++++++++++++++++++++++++++'''\n",
    "'''Initializing class finding the mean star rating of cities'''\n",
    "class answer_Q1():        \n",
    "    def groupby_mean(self, data_frame):\n",
    "        return data_frame.groupby(['city'])['stars'].mean()\n",
    "'''***************************************************************************************************************************'''\n",
    "\n",
    "'''Calling machine learning class to train and test data finding R^2 and best parameters'''\n",
    "knn = mlm_KNN()\n",
    "knn.fit(latitude_train, stars_train)\n",
    "print knn.score(latitude_train, stars_train)\n",
    "print knn.score(latitude_test, stars_test)\n",
    "#print knn.best_params_() #Only used with GridSearchCV in class\n",
    "\n",
    "'''Calling answer_Q1 to find the mean star rating for each city grouping by city\n",
    "city_mean = answer_Q1()\n",
    "print city_mean.groupby_mean(data_frame)'''"
   ]
  },
  {
   "cell_type": "code",
   "execution_count": null,
   "metadata": {
    "collapsed": true
   },
   "outputs": [],
   "source": []
  }
 ],
 "metadata": {
  "kernelspec": {
   "display_name": "Python 2",
   "language": "python",
   "name": "python2"
  },
  "language_info": {
   "codemirror_mode": {
    "name": "ipython",
    "version": 2
   },
   "file_extension": ".py",
   "mimetype": "text/x-python",
   "name": "python",
   "nbconvert_exporter": "python",
   "pygments_lexer": "ipython2",
   "version": "2.7.10"
  }
 },
 "nbformat": 4,
 "nbformat_minor": 0
}
