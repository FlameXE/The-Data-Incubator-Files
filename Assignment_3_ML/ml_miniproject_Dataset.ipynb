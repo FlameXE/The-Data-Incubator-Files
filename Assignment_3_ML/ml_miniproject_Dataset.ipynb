{
 "cells": [
  {
   "cell_type": "code",
   "execution_count": 13,
   "metadata": {
    "collapsed": false
   },
   "outputs": [],
   "source": [
    "import gzip\n",
    "\n",
    "x = 0\n",
    "\n",
    "with gzip.open('yelp_dataset.json.gz', 'rb+') as f:\n",
    "    file_content = f.readlines()\n",
    "\n",
    "\n",
    "g = open('yelp_dataset_Initial.txt', 'w+')\n",
    "\n",
    "while x < len(file_content):\n",
    "    g.write(str(file_content[x]))\n",
    "    x += 1"
   ]
  },
  {
   "cell_type": "code",
   "execution_count": null,
   "metadata": {
    "collapsed": true
   },
   "outputs": [],
   "source": []
  }
 ],
 "metadata": {
  "kernelspec": {
   "display_name": "Python 2",
   "language": "python",
   "name": "python2"
  },
  "language_info": {
   "codemirror_mode": {
    "name": "ipython",
    "version": 2
   },
   "file_extension": ".py",
   "mimetype": "text/x-python",
   "name": "python",
   "nbconvert_exporter": "python",
   "pygments_lexer": "ipython2",
   "version": "2.7.10"
  }
 },
 "nbformat": 4,
 "nbformat_minor": 0
}
