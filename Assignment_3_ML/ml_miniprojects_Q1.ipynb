{
 "cells": [
  {
   "cell_type": "code",
   "execution_count": 1,
   "metadata": {
    "collapsed": false
   },
   "outputs": [
    {
     "data": {
      "text/plain": [
       "'Closing txt file'"
      ]
     },
     "execution_count": 1,
     "metadata": {},
     "output_type": "execute_result"
    }
   ],
   "source": [
    "'''+++++++++++++++++++++++++++++++++++++++++++++++++++++++++++++++++++++++++++++++++++++++++++++++++++++++++++++++++++++++++++'''\n",
    "'''Importing modules'''\n",
    "import pandas\n",
    "import numpy as np\n",
    "import json\n",
    "from sklearn.cross_validation import train_test_split\n",
    "from sklearn.base import BaseEstimator, ClassifierMixin, RegressorMixin, TransformerMixin\n",
    "from sklearn.linear_model import Ridge, LinearRegression, Lasso\n",
    "from sklearn.neighbors import KNeighborsRegressor\n",
    "from sklearn.grid_search import GridSearchCV\n",
    "from sklearn.ensemble import RandomForestRegressor\n",
    "import pickle\n",
    "import dill\n",
    "import gzip\n",
    "'''***************************************************************************************************************************'''\n",
    "\n",
    "'''Initializing variables and empty lists'''\n",
    "lines_list = []\n",
    "lines_iter = 0\n",
    "\n",
    "'''Initializing class which predicts city star rating'''\n",
    "class mlm_MEAN(BaseEstimator, TransformerMixin):    \n",
    "    def predict(self, record):\n",
    "        record = json.loads(record)\n",
    "        city = record['city']\n",
    "        try:\n",
    "            answerq1 = np.asscalar(city_mean_model[city])\n",
    "        except:\n",
    "            answerq1 = np.asscalar(np.average(city_mean_model))\n",
    "        return answerq1\n",
    "\n",
    "'''Opening txt file containing Yelp data and reading lines'''\n",
    "yelp_dataset_Raw_txt = gzip.open('yelp_dataset.json.gz', 'rb+')\n",
    "lines = yelp_dataset_Raw_txt.readlines()\n",
    "\n",
    "'''Opening empty txt file to write city_mean using dill to save dataframe'''\n",
    "#city_mean_model_txt = open('ml_Q1_city_mean_model.txt', 'wb+')\n",
    "\n",
    "'''Writing lines to an empty list using json.loads to parse'''\n",
    "while lines_iter < len(lines):\n",
    "    if len(lines[lines_iter]) > 0:\n",
    "        lines_list.append(json.loads(lines[lines_iter]))\n",
    "    lines_iter += 1\n",
    "\n",
    "'''Initializing list with Yelp data into a pandas data frame for manipulation'''\n",
    "lines_data_frame = pandas.DataFrame(lines_list)\n",
    "\n",
    "'''Grouping city from dataframe in descending order and finding the mean of each city's star rating'''\n",
    "city_mean_model = (lines_data_frame.groupby(['city'])['stars'].mean()).to_dict()\n",
    "\n",
    "'''Dumping city_mean as a pandas dataframe object into txt file'''\n",
    "#dill.dump(city_mean_model, city_mean_model_txt)\n",
    "\n",
    "'''Closing txt file'''\n",
    "#city_mean_model_txt.close()"
   ]
  },
  {
   "cell_type": "code",
   "execution_count": null,
   "metadata": {
    "collapsed": true
   },
   "outputs": [],
   "source": []
  }
 ],
 "metadata": {
  "kernelspec": {
   "display_name": "Python 2",
   "language": "python",
   "name": "python2"
  },
  "language_info": {
   "codemirror_mode": {
    "name": "ipython",
    "version": 2
   },
   "file_extension": ".py",
   "mimetype": "text/x-python",
   "name": "python",
   "nbconvert_exporter": "python",
   "pygments_lexer": "ipython2",
   "version": "2.7.10"
  }
 },
 "nbformat": 4,
 "nbformat_minor": 0
}
